{
 "cells": [
  {
   "cell_type": "code",
   "id": "initial_id",
   "metadata": {
    "collapsed": true
   },
   "source": [
    "from random import randrange\n",
    "chonso = int(randrange(1, 51))\n",
    "guess = int(input())\n",
    "i=0\n",
    "while guess != chonso:\n",
    "    i+=1\n",
    "    if guess > chonso:\n",
    "        print('was so high')\n",
    "    if guess < chonso:\n",
    "        print('was so low')\n",
    "    guess = int(input('chon lai'))\n",
    "    if i>=5:\n",
    "        break\n",
    "print('het luot')\n",
    "if guess == chonso:\n",
    "    print('chuc mung!! ban da chon dung so', chonso)"
   ],
   "outputs": [],
   "execution_count": null
  },
  {
   "metadata": {},
   "cell_type": "code",
   "source": "",
   "id": "dc65c73bddc8d588",
   "outputs": [],
   "execution_count": null
  }
 ],
 "metadata": {
  "kernelspec": {
   "display_name": "Python 3",
   "language": "python",
   "name": "python3"
  },
  "language_info": {
   "codemirror_mode": {
    "name": "ipython",
    "version": 2
   },
   "file_extension": ".py",
   "mimetype": "text/x-python",
   "name": "python",
   "nbconvert_exporter": "python",
   "pygments_lexer": "ipython2",
   "version": "2.7.6"
  }
 },
 "nbformat": 4,
 "nbformat_minor": 5
}
