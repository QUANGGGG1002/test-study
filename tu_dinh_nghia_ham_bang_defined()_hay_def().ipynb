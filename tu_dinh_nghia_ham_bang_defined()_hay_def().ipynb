{
 "cells": [
  {
   "cell_type": "code",
   "id": "initial_id",
   "metadata": {
    "collapsed": true,
    "ExecuteTime": {
     "end_time": "2024-10-13T20:45:01.659617Z",
     "start_time": "2024-10-13T20:45:01.656015Z"
    }
   },
   "source": [
    "from random import random\n",
    "\n",
    "from fontTools.unicodedata import block\n",
    "# def() là hàm tự định nghĩa và ta có thể gọi ra để sử dụng. Có thể giúp ta chia bài toán ra thành nhiều phần nhỏ\n",
    "# Công thức: def name(parameter list):\n",
    "                #block\n",
    "import random\n",
    "def cong(x,y):\n",
    "    return x+y\n",
    "x = int(random.randrange(1,1001))\n",
    "y = int(random.randrange(1,1001))\n",
    "print(cong(x,y))"
   ],
   "outputs": [
    {
     "name": "stdout",
     "output_type": "stream",
     "text": [
      "392\n"
     ]
    }
   ],
   "execution_count": 91
  },
  {
   "metadata": {
    "ExecuteTime": {
     "end_time": "2024-10-13T20:45:01.677223Z",
     "start_time": "2024-10-13T20:45:01.674029Z"
    }
   },
   "cell_type": "code",
   "source": [
    "def tru(a,b):\n",
    "    return a-b\n",
    "a = int(random.randrange(1,1001))\n",
    "b = int(random.randrange(1,1001))\n",
    "print(tru(a,b))"
   ],
   "id": "87ffe6be6df6a365",
   "outputs": [
    {
     "name": "stdout",
     "output_type": "stream",
     "text": [
      "-844\n"
     ]
    }
   ],
   "execution_count": 92
  },
  {
   "metadata": {
    "ExecuteTime": {
     "end_time": "2024-10-13T20:45:01.701119Z",
     "start_time": "2024-10-13T20:45:01.697466Z"
    }
   },
   "cell_type": "code",
   "source": [
    "# hàm def được chia làm 2 loại 1 là có đói số và 2 là không có đối số\n",
    "# def có đối số là có return để đưa về 1 cái giá trị nào đó sau khi xử l\n",
    "# def không có đối số là hàm không có return\n",
    "\n",
    "# ví dụ hàm đối số\n",
    "def ptb1(a,b):  # pt bậc 1 có dạng ax+b=0\n",
    "    if a==0 and b==0:\n",
    "        return 'vô số nghiệm'\n",
    "    elif a==0 and b!=0:\n",
    "        return 'vô nghiệm'\n",
    "    else:\n",
    "        return 'x={}'.format(-b/a)  # định dạng phép tính trong format() vì nếu để phép tính trong {} thì nó sẽ được hiểu thành là 1 chuõi \n",
    "x=ptb1(0,4)\n",
    "print(x)\n",
    "print(type(x))\n",
    "    "
   ],
   "id": "b2f4273669dc8118",
   "outputs": [
    {
     "name": "stdout",
     "output_type": "stream",
     "text": [
      "vô nghiệm\n",
      "<class 'str'>\n"
     ]
    }
   ],
   "execution_count": 93
  },
  {
   "metadata": {
    "ExecuteTime": {
     "end_time": "2024-10-13T20:45:05.127024Z",
     "start_time": "2024-10-13T20:45:01.786021Z"
    }
   },
   "cell_type": "code",
   "source": [
    "# ví dụ hàm không đối số  \n",
    "# ta hiểu là ta đã định nghĩa hàm xuatchuoi ở trên và in ra trong hàm rồi, nên ta chỉ cần đưa tên hàm xuống là sẽ tự in ra\n",
    "def xuatchuoi(chuoi):\n",
    "    print(chuoi)\n",
    "chuoi = input('nhập chuỗi')\n",
    "c=xuatchuoi(chuoi)\n",
    "print(type(c))"
   ],
   "id": "184ee81cffba5479",
   "outputs": [
    {
     "name": "stdout",
     "output_type": "stream",
     "text": [
      "Quang\n",
      "<class 'NoneType'>\n"
     ]
    }
   ],
   "execution_count": 94
  },
  {
   "metadata": {
    "ExecuteTime": {
     "end_time": "2024-10-13T20:45:05.218230Z",
     "start_time": "2024-10-13T20:45:05.213285Z"
    }
   },
   "cell_type": "code",
   "source": [
    "# Như vậy nếu hàm có đối số thì ta có thể gán biến cho nó (vd: x=..)\n",
    "# còn hàm không có đối số (không có return) thì ta không thể gán biến (vd:c=..)\n",
    "\n",
    "# ví dụ viết chữ N theo 2 điều kiện nếu chẳn thì nghiêng bên phải nếu lẻ thì nghiêng bên trái\n",
    "import random\n",
    "def N_ben_phai(n):\n",
    "    for i in range(n):\n",
    "        for j in range(n):\n",
    "            if j==0 or j==n-1 or i==j:\n",
    "                print('*',end='')\n",
    "            else:\n",
    "                print('',end=' ')\n",
    "        print()\n",
    "def N_ben_trai(n):\n",
    "    for i in range(n):\n",
    "        for j in range(n):\n",
    "            if j==0 or j==n-1 or i+j==n-1:\n",
    "                print('*',end='')\n",
    "            else:\n",
    "                print('',end=' ')\n",
    "        print()\n",
    "n= random.randrange(5,11)\n",
    "if n%2==0:\n",
    "    N_ben_phai(n)\n",
    "else:\n",
    "    N_ben_trai(n)"
   ],
   "id": "e1595eb59eefa64",
   "outputs": [
    {
     "name": "stdout",
     "output_type": "stream",
     "text": [
      "*     *\n",
      "*    **\n",
      "*   * *\n",
      "*  *  *\n",
      "* *   *\n",
      "**    *\n",
      "*     *\n"
     ]
    }
   ],
   "execution_count": 95
  },
  {
   "metadata": {
    "ExecuteTime": {
     "end_time": "2024-10-13T21:09:50.026829Z",
     "start_time": "2024-10-13T21:09:50.019849Z"
    }
   },
   "cell_type": "code",
   "source": [
    "import random\n",
    "def roi(dt,cp):\n",
    "    roi = (dt-cp)/cp\n",
    "    print('ti le dau tu la:',roi)\n",
    "    if roi >= 0.75:\n",
    "        return 'nen dau tu'\n",
    "    else:\n",
    "        return 'khong nen dau tu'\n",
    "dt = float(random.randrange(1,1001))\n",
    "cp = float(random.randrange(1,1001))\n",
    "print(roi(dt,cp))"
   ],
   "id": "a2c783f49f36423d",
   "outputs": [
    {
     "name": "stdout",
     "output_type": "stream",
     "text": [
      "ti le dau tu la: -0.5018382352941176\n",
      "khong nen dau tu\n"
     ]
    }
   ],
   "execution_count": 132
  },
  {
   "metadata": {
    "ExecuteTime": {
     "end_time": "2024-10-13T20:45:05.271837Z",
     "start_time": "2024-10-13T20:45:05.269834Z"
    }
   },
   "cell_type": "code",
   "source": "",
   "id": "46590deabab73133",
   "outputs": [],
   "execution_count": null
  },
  {
   "metadata": {
    "ExecuteTime": {
     "end_time": "2024-10-13T20:45:05.282450Z",
     "start_time": "2024-10-13T20:45:05.280991Z"
    }
   },
   "cell_type": "code",
   "source": "",
   "id": "2b9cc79e86319e21",
   "outputs": [],
   "execution_count": null
  },
  {
   "metadata": {
    "ExecuteTime": {
     "end_time": "2024-10-13T20:45:05.297412Z",
     "start_time": "2024-10-13T20:45:05.294868Z"
    }
   },
   "cell_type": "code",
   "source": "",
   "id": "5be9dc0add9dc92a",
   "outputs": [],
   "execution_count": null
  },
  {
   "metadata": {
    "ExecuteTime": {
     "end_time": "2024-10-13T20:45:05.309552Z",
     "start_time": "2024-10-13T20:45:05.306959Z"
    }
   },
   "cell_type": "code",
   "source": "",
   "id": "ccc6cedd5a49b3e2",
   "outputs": [],
   "execution_count": null
  },
  {
   "metadata": {
    "ExecuteTime": {
     "end_time": "2024-10-13T20:45:05.322081Z",
     "start_time": "2024-10-13T20:45:05.320265Z"
    }
   },
   "cell_type": "code",
   "source": "",
   "id": "847862615844e68a",
   "outputs": [],
   "execution_count": null
  },
  {
   "metadata": {
    "ExecuteTime": {
     "end_time": "2024-10-13T20:45:05.329277Z",
     "start_time": "2024-10-13T20:45:05.326791Z"
    }
   },
   "cell_type": "code",
   "source": "",
   "id": "febd7ab76431b5cd",
   "outputs": [],
   "execution_count": null
  },
  {
   "metadata": {
    "ExecuteTime": {
     "end_time": "2024-10-13T20:45:05.338980Z",
     "start_time": "2024-10-13T20:45:05.336374Z"
    }
   },
   "cell_type": "code",
   "source": "",
   "id": "e52160d30c6ac22",
   "outputs": [],
   "execution_count": null
  }
 ],
 "metadata": {
  "kernelspec": {
   "display_name": "Python 3",
   "language": "python",
   "name": "python3"
  },
  "language_info": {
   "codemirror_mode": {
    "name": "ipython",
    "version": 2
   },
   "file_extension": ".py",
   "mimetype": "text/x-python",
   "name": "python",
   "nbconvert_exporter": "python",
   "pygments_lexer": "ipython2",
   "version": "2.7.6"
  }
 },
 "nbformat": 4,
 "nbformat_minor": 5
}
